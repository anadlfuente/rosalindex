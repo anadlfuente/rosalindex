{
 "cells": [
  {
   "attachments": {},
   "cell_type": "markdown",
   "metadata": {},
   "source": [
    "ROSALIND EXERCISES"
   ]
  },
  {
   "attachments": {},
   "cell_type": "markdown",
   "metadata": {},
   "source": [
    "1. Counting DNA nucleotides.\n",
    "\n",
    "Given a DNA string 's' of lenght at most 1000 nts, return four integers counting the respective number of times that the nucleotides appear."
   ]
  },
  {
   "cell_type": "code",
   "execution_count": 2,
   "metadata": {},
   "outputs": [
    {
     "name": "stdout",
     "output_type": "stream",
     "text": [
      "0 0 0 0\n"
     ]
    }
   ],
   "source": [
    "s=input('Enter the sequence:')\n",
    "dnacount= {'A': 0, 'C':0,'G':0,'T':0} #We make a dictionary to add the count of each nt\n",
    "nucleotide=list(s) #Create a list to separate each character(nt) of the sequence\n",
    "for nt in nucleotide:\n",
    "    if nt == 'A':\n",
    "        dnacount['A']=dnacount['A']+1\n",
    "    elif nt == 'C':\n",
    "        dnacount['C']=dnacount['C']+1\n",
    "    elif nt == 'G':\n",
    "        dnacount['G']=dnacount['G']+1\n",
    "    elif nt == 'T':\n",
    "        dnacount['T']=dnacount['T']+1 #Count each nt and add it into the diferent variables of the dictionary\n",
    "print(dnacount['A'],dnacount['C'],dnacount['G'],dnacount['T'])"
   ]
  },
  {
   "attachments": {},
   "cell_type": "markdown",
   "metadata": {},
   "source": [
    "2. Transcribing DNA into RNA \n",
    "\n",
    "Given a DNA string 't' having length at most 1000 nt, return the transcribed RNA string of t "
   ]
  },
  {
   "cell_type": "code",
   "execution_count": 2,
   "metadata": {},
   "outputs": [
    {
     "name": "stdout",
     "output_type": "stream",
     "text": [
      "\n"
     ]
    }
   ],
   "source": [
    "dna=input('Enter the DNA sequence:')\n",
    "nucleotide=list(dna) #Make a list of each nt of the sequence\n",
    "rna= '' #Create an empty string variable to create the RNA sequence\n",
    "for i in nucleotide:\n",
    "    if i == 'T': #Each 'T' of the string will be changed into U\n",
    "        rna=rna +'U'\n",
    "    elif i in ['A','G','C']: #The other ones will remain the same\n",
    "        rna=rna + i\n",
    "print(rna)"
   ]
  },
  {
   "attachments": {},
   "cell_type": "markdown",
   "metadata": {},
   "source": [
    "3. Complementing a Strand of DNA\n",
    "\n",
    "Given a DNA string 's' of length at most 1000 bp, return the reverse complement 'sc'"
   ]
  },
  {
   "cell_type": "code",
   "execution_count": 3,
   "metadata": {},
   "outputs": [
    {
     "name": "stdout",
     "output_type": "stream",
     "text": [
      "\n"
     ]
    }
   ],
   "source": [
    "s=input('Enter the sequence:')\n",
    "s=s[::-1]#permite invertir el string añadido.\n",
    "nt=list(s)\n",
    "sol='' #Create a empty variable string to add the result\n",
    "for i in nt:\n",
    "    if i == 'A':\n",
    "        sol=sol+'T'\n",
    "    elif i == 'T':\n",
    "        sol=sol+'A'\n",
    "    elif i == 'G':\n",
    "        sol=sol+'C'\n",
    "    elif i == 'C':\n",
    "        sol=sol+ 'G' #Change each nt into his pair (C<->G and A<->T)\n",
    "print(sol)"
   ]
  },
  {
   "attachments": {},
   "cell_type": "markdown",
   "metadata": {},
   "source": [
    "4. Counting point mutations\n",
    "\n",
    "Given two strings 's' and 't' of equal length, return de Hamming distance (minimum number of corresponding symbols that differ the two sequences)\n"
   ]
  },
  {
   "cell_type": "code",
   "execution_count": 4,
   "metadata": {},
   "outputs": [
    {
     "name": "stdout",
     "output_type": "stream",
     "text": [
      "0\n"
     ]
    }
   ],
   "source": [
    "s=list(input('Enter first sequence:'))\n",
    "t=list(input('Enter second sequence:'))\n",
    "mut=0 #Create and empty integer variable to count mutations\n",
    "for i in range(len(s)):\n",
    "    if s[i] != t[i]: \n",
    "        mut=mut+1 #When the pair of nt in 's' and 't' are different, add a mutation\n",
    "print(mut)"
   ]
  },
  {
   "attachments": {},
   "cell_type": "markdown",
   "metadata": {},
   "source": [
    "5. Translating RNA into Protein\n",
    "\n",
    "Given an mRNA string 's', return the protein string encoded by the sequence."
   ]
  },
  {
   "cell_type": "code",
   "execution_count": 5,
   "metadata": {},
   "outputs": [
    {
     "name": "stdout",
     "output_type": "stream",
     "text": [
      "\n"
     ]
    }
   ],
   "source": [
    "s=input('Enter the sequence:')\n",
    "peptide=''\n",
    "codontab ={\"UUU\":\"F\", \"UUC\":\"F\", \"UUA\":\"L\", \"UUG\":\"L\",\n",
    "       \"UCU\":\"S\", \"UCC\":\"S\", \"UCA\":\"S\", \"UCG\":\"S\",\n",
    "       \"UAU\":\"Y\", \"UAC\":\"Y\", \"UAA\":\"*\", \"UAG\":\"*\",\n",
    "       \"UGU\":\"C\", \"UGC\":\"C\", \"UGA\":\"*\", \"UGG\":\"W\",\n",
    "       \"CUU\":\"L\", \"CUC\":\"L\", \"CUA\":\"L\", \"CUG\":\"L\",\n",
    "       \"CCU\":\"P\", \"CCC\":\"P\", \"CCA\":\"P\", \"CCG\":\"P\",\n",
    "       \"CAU\":\"H\", \"CAC\":\"H\", \"CAA\":\"Q\", \"CAG\":\"Q\",\n",
    "       \"CGU\":\"R\", \"CGC\":\"R\", \"CGA\":\"R\", \"CGG\":\"R\",\n",
    "       \"AUU\":\"I\", \"AUC\":\"I\", \"AUA\":\"I\", \"AUG\":\"M\",\n",
    "       \"ACU\":\"T\", \"ACC\":\"T\", \"ACA\":\"T\", \"ACG\":\"T\",\n",
    "       \"AAU\":\"N\", \"AAC\":\"N\", \"AAA\":\"K\", \"AAG\":\"K\",\n",
    "       \"AGU\":\"S\", \"AGC\":\"S\", \"AGA\":\"R\", \"AGG\":\"R\",\n",
    "       \"GUU\":\"V\", \"GUC\":\"V\", \"GUA\":\"V\", \"GUG\":\"V\",\n",
    "       \"GCU\":\"A\", \"GCC\":\"A\", \"GCA\":\"A\", \"GCG\":\"A\",\n",
    "       \"GAU\":\"D\", \"GAC\":\"D\", \"GAA\":\"E\", \"GAG\":\"E\",\n",
    "       \"GGU\":\"G\", \"GGC\":\"G\", \"GGA\":\"G\", \"GGG\":\"G\",} #Add the codon table in a dictionary\n",
    "for i in range(0,len(s),3): \n",
    "    codon=str(s[i:i+3]) #Code a for loop with a step of three nts and save in a variable the codon\n",
    "    try:\n",
    "         peptide= peptide+codontab[codon] #Search in the codon tab the codon saved and add the aa in the prptide string\n",
    "    except:\n",
    "         break #Incase the variable codon have less than three nts, then it doesn't exist an aa in the codon table.\n",
    "print(peptide)"
   ]
  },
  {
   "attachments": {},
   "cell_type": "markdown",
   "metadata": {},
   "source": [
    "6. Finding a motif in DNA \n",
    "\n",
    "Given two DNA strings 's' and 't', return all locations in s that have the 't' motif(substring). \n",
    "A substring of s can be represented as s[j:k] CAUTION: k is NOT in the variable\n",
    "\n",
    "The position number has to be i+1 because python starts counting in a vector o string in 0."
   ]
  },
  {
   "cell_type": "code",
   "execution_count": 6,
   "metadata": {},
   "outputs": [
    {
     "name": "stdout",
     "output_type": "stream",
     "text": [
      "\n"
     ]
    }
   ],
   "source": [
    "s=input('Enter the sequence:')\n",
    "t=input('Enter the motif:')\n",
    "l=len(t) #To know how many nts has the motif \n",
    "num=''\n",
    "for i in range(len(s)):\n",
    "    motif= s[i:i+l] #Save a substring of s with the same length as the motif\n",
    "    if motif == t:\n",
    "        num=num +str(i+1)+ ' ' #If the substring is equal to the motif, we add the position number in the result.\n",
    "print(str(num))"
   ]
  },
  {
   "attachments": {},
   "cell_type": "markdown",
   "metadata": {},
   "source": [
    "7. Calculating Protein Mass\n",
    "\n",
    "Given a protein string 'P' of length at most 1000 aa, retur the total weigth of P using the monoisotipic mass table"
   ]
  },
  {
   "cell_type": "code",
   "execution_count": 7,
   "metadata": {},
   "outputs": [
    {
     "name": "stdout",
     "output_type": "stream",
     "text": [
      "0\n"
     ]
    }
   ],
   "source": [
    "p=input('Enter the protein:')\n",
    "aa=''\n",
    "sum=0\n",
    "mass={'A':71.03711,\n",
    "'C':103.00919,\n",
    "'D': 115.02694,\n",
    "'E': 129.04259,\n",
    "'F': 147.06841,\n",
    "'G': 57.02146,\n",
    "'H': 137.05891,\n",
    "'I': 113.08406,\n",
    "'K': 128.09496,\n",
    "'L': 113.08406,\n",
    "'M': 131.04049,\n",
    "'N': 114.04293,\n",
    "'P': 97.05276,\n",
    "'Q': 128.05858,\n",
    "'R': 156.10111,\n",
    "'S': 87.03203,\n",
    "'T': 101.04768,\n",
    "'V': 99.06841,\n",
    "'W': 186.07931,\n",
    "'Y': 163.06333 } #Create a dictionary with the table protein mass\n",
    "for i in range(len(p)):\n",
    "    aa=p[i] #Run through the peptide sequence. Add to the variable the actual aa\n",
    "    w=mass[aa] #Search in the dictionary the mass of the aa\n",
    "    sum=sum+w #Add it in the sum\n",
    "print(sum)"
   ]
  },
  {
   "attachments": {},
   "cell_type": "markdown",
   "metadata": {},
   "source": [
    "8. Computing GC Content \n",
    "\n",
    "Given somes DNA strings in fasta format, return the ID of the string with the highest GC-Content. \n",
    "\n",
    "TIP: In order to print many variables without spaces between them, add the argument sep with an empty string ('')"
   ]
  },
  {
   "cell_type": "code",
   "execution_count": 9,
   "metadata": {},
   "outputs": [
    {
     "name": "stdout",
     "output_type": "stream",
     "text": [
      "Rosalind_9600\n",
      "51.37931034482759\n"
     ]
    }
   ],
   "source": [
    "fast= open('fasta.txt','r') #Open the fasta file with the DNA strings\n",
    "d={} #Create a dictionary to order the DNA strings with the ID as the key\n",
    "content={} #Create a dictionary to load the GC content of each DNA string\n",
    "\n",
    "#Create the dictionary with the IDs and the string#\n",
    "for line in fast:\n",
    "    line=line.strip() #To eliminate the '\\n' of the string.\n",
    "    if '>' in line:\n",
    "        id=str(line[10:14]) #If the line is the ID of the fast, we save the ID to a variable\n",
    "    else:\n",
    "        try:\n",
    "            d[id]=d[id]+line #Using the ID previously saved, we use it to create a new key in the dictionary, adding the line or lines with the sequences\n",
    "        except:\n",
    "            d[id]=line\n",
    "\n",
    "#Calculate the GC content#\n",
    "for id in d:\n",
    "    seq=list(d[id]) #We create a list of the IDs of the fasta que loaded\n",
    "    num=0;gc=0\n",
    "    for i in seq:\n",
    "        num=num+1\n",
    "        if i in ['G','C']:\n",
    "            gc=gc+1 #In the variable of the GC content we add 1 for each nt G or C we found in the string\n",
    "    content[id]=(gc/num)*100\n",
    "\n",
    "#Choose the ID with the highest GC content \n",
    "max=0\n",
    "rosalind=0\n",
    "for id in content:\n",
    "    if content[id] > max:\n",
    "        max=content[id]\n",
    "        rosalind=id\n",
    "print('Rosalind_',rosalind,'\\n',max,sep='')\n"
   ]
  },
  {
   "attachments": {},
   "cell_type": "markdown",
   "metadata": {},
   "source": [
    "9. RNA splicing\n",
    "\n",
    "Given a DNA string 's' and a collection of substrings acting as introns in FASFA format, Return a protein string resultinf from transcribing and translatin the exons. \n",
    "\n",
    "We can use code previously done to transcribe and translate DNA into protein."
   ]
  },
  {
   "cell_type": "code",
   "execution_count": 4,
   "metadata": {},
   "outputs": [
    {
     "name": "stdout",
     "output_type": "stream",
     "text": [
      "MSWSPGYVQSQRRPQPTKSSLTALAARIPIHSVVMRALASLAFAYQSASRSAALRHNNLRRAGHERHLSRSNPCAHIGGPYRRIVSITGWPSTALHHRVQRPNGSQLLCLESTGSLRSLSILAFFLKCHTQHMLLAKAAAGKLFHGITAPIGTYQVGRMNYLICEDLGPVQLRRDWCLLKLRSTQSAKGIGQIF*\n"
     ]
    }
   ],
   "source": [
    "fast=open('fasta.txt','r')\n",
    "d={}\n",
    "control=0\n",
    "stringid=''\n",
    "\n",
    "#Create a dictionary with the principal string and the substrings#\n",
    "for line in fast:\n",
    "    line=line.strip() #To eliminate the '\\n' of the string.\n",
    "    if '>' in line:\n",
    "        id=str(line[10:14]) #If the line is the ID of the fast, we save the ID to a variable\n",
    "        if stringid=='':\n",
    "            stringid=id   \n",
    "    else:\n",
    "        try:\n",
    "            d[id]=d[id]+line #Using the ID previously saved, we use it to create a new key in the dictionary, adding the line or lines with the sequences\n",
    "        except:\n",
    "            d[id]=line\n",
    "\n",
    "#Delete the sequences of the substring in the principal string to obtain the DNA spliced#\n",
    "splicing=d[stringid]\n",
    "for substr in d:\n",
    "    if substr !=stringid:\n",
    "        search=splicing.find(d[substr])\n",
    "        splicing=splicing.replace(d[substr],'')\n",
    "\n",
    "#Trancribe the DNA exons using a code similar in the exercise 2#\n",
    "nucleotide=list(splicing)\n",
    "rna= '' #Create an empty string variable to create the RNA sequence\n",
    "for i in nucleotide:\n",
    "    if i == 'T': #Each 'T' of the string will be changed into U\n",
    "        rna=rna +'U'\n",
    "    elif i in ['A','G','C']: #The other ones will remain the same\n",
    "        rna=rna + i\n",
    "\n",
    "#Translate the RNA using the codon table (exercise 5)\n",
    "peptide=''\n",
    "codontab ={\"UUU\":\"F\", \"UUC\":\"F\", \"UUA\":\"L\", \"UUG\":\"L\",\n",
    "       \"UCU\":\"S\", \"UCC\":\"S\", \"UCA\":\"S\", \"UCG\":\"S\",\n",
    "       \"UAU\":\"Y\", \"UAC\":\"Y\", \"UAA\":\"*\", \"UAG\":\"*\",\n",
    "       \"UGU\":\"C\", \"UGC\":\"C\", \"UGA\":\"*\", \"UGG\":\"W\",\n",
    "       \"CUU\":\"L\", \"CUC\":\"L\", \"CUA\":\"L\", \"CUG\":\"L\",\n",
    "       \"CCU\":\"P\", \"CCC\":\"P\", \"CCA\":\"P\", \"CCG\":\"P\",\n",
    "       \"CAU\":\"H\", \"CAC\":\"H\", \"CAA\":\"Q\", \"CAG\":\"Q\",\n",
    "       \"CGU\":\"R\", \"CGC\":\"R\", \"CGA\":\"R\", \"CGG\":\"R\",\n",
    "       \"AUU\":\"I\", \"AUC\":\"I\", \"AUA\":\"I\", \"AUG\":\"M\",\n",
    "       \"ACU\":\"T\", \"ACC\":\"T\", \"ACA\":\"T\", \"ACG\":\"T\",\n",
    "       \"AAU\":\"N\", \"AAC\":\"N\", \"AAA\":\"K\", \"AAG\":\"K\",\n",
    "       \"AGU\":\"S\", \"AGC\":\"S\", \"AGA\":\"R\", \"AGG\":\"R\",\n",
    "       \"GUU\":\"V\", \"GUC\":\"V\", \"GUA\":\"V\", \"GUG\":\"V\",\n",
    "       \"GCU\":\"A\", \"GCC\":\"A\", \"GCA\":\"A\", \"GCG\":\"A\",\n",
    "       \"GAU\":\"D\", \"GAC\":\"D\", \"GAA\":\"E\", \"GAG\":\"E\",\n",
    "       \"GGU\":\"G\", \"GGC\":\"G\", \"GGA\":\"G\", \"GGG\":\"G\",} #Add the codon table in a dictionary\n",
    "for i in range(0,len(rna),3): \n",
    "    codon=str(rna[i:i+3]) #Code a for loop with a step of three nts and save in a variable the codon\n",
    "    try:\n",
    "         peptide= peptide+codontab[codon] #Search in the codon tab the codon saved and add the aa in the prptide string\n",
    "    except:\n",
    "         break #Incase the variable codon have less than three nts, then it doesn't exist an aa in the codon table.\n",
    "print(peptide)     "
   ]
  },
  {
   "attachments": {},
   "cell_type": "markdown",
   "metadata": {},
   "source": [
    "10. Open reading frames\n",
    "\n",
    "Given a DNA string 's' in FASTA format, return every candidate protein string thas can be translated  from ORFs(starts with start codon and end with a stop codon)"
   ]
  },
  {
   "cell_type": "code",
   "execution_count": 1,
   "metadata": {},
   "outputs": [
    {
     "name": "stdout",
     "output_type": "stream",
     "text": [
      "{'99': 'AGCCATGTAGCTAACTCAGGTTACATGGGGATGACCCCGCGACTTGGATTAGAGTCTCTTTTGGAATAAGCCTGAATGATCCGAGTAGCATCTCAG'}\n"
     ]
    }
   ],
   "source": [
    "fast= open('fasta.txt','r') #Open the fasta file with the DNA strings\n",
    "d={} #Create a dictionary to order the DNA strings with the ID as the key\n",
    "content={} #Create a dictionary to load the GC content of each DNA string\n",
    "\n",
    "#Create the dictionary with the IDs and the string#\n",
    "for line in fast:\n",
    "    line=line.strip() #To eliminate the '\\n' of the string.\n",
    "    if '>' in line:\n",
    "        id=str(line[10:14]) #If the line is the ID of the fast, we save the ID to a variable\n",
    "    else:\n",
    "        try:\n",
    "            d[id]=d[id]+line #Using the ID previously saved, we use it to create a new key in the dictionary, adding the line or lines with the sequences\n",
    "        except:\n",
    "            d[id]=line\n",
    "\n",
    "#Transcribe DNA to RNA#\n",
    "nucleotide=list(d[id])\n",
    "rna= '' #Create an empty string variable to create the RNA sequence\n",
    "for i in nucleotide:\n",
    "    if i == 'T': #Each 'T' of the string will be changed into U\n",
    "        rna=rna +'U'\n",
    "    elif i in ['A','G','C']: #The other ones will remain the same\n",
    "        rna=rna + i\n",
    "d[id]=rna\n",
    "#Search the Open Reading Frames#\n",
    "string= list(d[id])\n",
    "orf=1\n",
    "for nt in string:\n",
    "    codon=str(string[nt:nt+3])\n",
    "    if codon == 'AUG':\n",
    "        substr=''\n",
    "        for i in string[nt::3]:\n",
    "            aa=str(string[i:i+3])\n",
    "            substr=substr+aa\n",
    "            if aa in ['UAG']\n",
    "\n",
    "\n",
    "\n"
   ]
  }
 ],
 "metadata": {
  "kernelspec": {
   "display_name": "Python 3",
   "language": "python",
   "name": "python3"
  },
  "language_info": {
   "codemirror_mode": {
    "name": "ipython",
    "version": 3
   },
   "file_extension": ".py",
   "mimetype": "text/x-python",
   "name": "python",
   "nbconvert_exporter": "python",
   "pygments_lexer": "ipython3",
   "version": "3.10.6"
  },
  "orig_nbformat": 4
 },
 "nbformat": 4,
 "nbformat_minor": 2
}
